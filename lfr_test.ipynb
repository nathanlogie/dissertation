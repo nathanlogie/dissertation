{
 "cells": [
  {
   "cell_type": "code",
   "id": "initial_id",
   "metadata": {
    "collapsed": true,
    "ExecuteTime": {
     "end_time": "2024-11-18T20:12:06.045447Z",
     "start_time": "2024-11-18T20:11:55.012624Z"
    }
   },
   "source": [
    "import pandas as pd\n",
    "from aif360.algorithms.preprocessing import LFR\n",
    "from sklearn.model_selection import train_test_split\n",
    "from sklearn.linear_model import LogisticRegression\n",
    "from sklearn.metrics import accuracy_score, precision_score, recall_score, f1_score\n",
    "from sklearn.pipeline import make_pipeline\n",
    "from sklearn.preprocessing import LabelEncoder, StandardScaler\n",
    "from aif360.metrics import BinaryLabelDatasetMetric, ClassificationMetric\n",
    "from aif360.datasets import BinaryLabelDataset"
   ],
   "outputs": [
    {
     "name": "stderr",
     "output_type": "stream",
     "text": [
      "WARNING:root:No module named 'fairlearn': ExponentiatedGradientReduction will be unavailable. To install, run:\n",
      "pip install 'aif360[Reductions]'\n",
      "WARNING:root:No module named 'fairlearn': GridSearchReduction will be unavailable. To install, run:\n",
      "pip install 'aif360[Reductions]'\n",
      "WARNING:root:No module named 'inFairness': SenSeI and SenSR will be unavailable. To install, run:\n",
      "pip install 'aif360[inFairness]'\n",
      "WARNING:root:No module named 'fairlearn': GridSearchReduction will be unavailable. To install, run:\n",
      "pip install 'aif360[Reductions]'\n"
     ]
    }
   ],
   "execution_count": 1
  },
  {
   "metadata": {
    "ExecuteTime": {
     "end_time": "2024-11-18T20:12:21.910700Z",
     "start_time": "2024-11-18T20:12:21.775179Z"
    }
   },
   "cell_type": "code",
   "source": [
    "filepath = \"datasets/processed_datasets/adult.csv\"\n",
    "sensitive_attribute = \"sex\"\n",
    "target_column = \"income\"\n",
    "\n",
    "df = pd.read_csv(filepath, header=0,skipinitialspace=True)\n",
    "target_name = \"predicted_\" + target_column\n",
    "df[sensitive_attribute] = LabelEncoder().fit_transform(df[sensitive_attribute])\n",
    "\n"
   ],
   "id": "9d219ef253ee191f",
   "outputs": [],
   "execution_count": 3
  },
  {
   "metadata": {
    "ExecuteTime": {
     "end_time": "2024-11-18T20:12:23.994018Z",
     "start_time": "2024-11-18T20:12:23.922363Z"
    }
   },
   "cell_type": "code",
   "source": [
    "y = df[target_column]\n",
    "X = df.drop(columns=[target_column])\n",
    "X_train, X_test, y_train, y_test = train_test_split(X, y, test_size=0.3, random_state=42)\n",
    "\n",
    "train_dataset = BinaryLabelDataset(df=pd.concat([X_train.reset_index(drop=True), y_train.reset_index(drop=True)], axis=1),\n",
    "                               label_names=[target_column],\n",
    "                               protected_attribute_names=[sensitive_attribute])\n",
    "\n",
    "test_dataset = BinaryLabelDataset(df=pd.concat([X_test.reset_index(drop=True), y_test.reset_index(drop=True)], axis=1),\n",
    "                              label_names=[target_column],\n",
    "                              protected_attribute_names=[sensitive_attribute])\n"
   ],
   "id": "e421ef10618ffcb3",
   "outputs": [],
   "execution_count": 4
  },
  {
   "metadata": {
    "ExecuteTime": {
     "end_time": "2024-11-18T20:21:21.927027Z",
     "start_time": "2024-11-18T20:19:45.783485Z"
    }
   },
   "cell_type": "code",
   "source": [
    "lfr = LFR(unprivileged_groups=[{sensitive_attribute: 0}],privileged_groups=[{sensitive_attribute: 1}],verbose=0,seed=2024)\n",
    "\n",
    "lfr.fit(train_dataset)\n",
    "train_dataset_transformed = lfr.transform(train_dataset)\n",
    "test_dataset_transformed = lfr.transform(test_dataset)\n",
    "\n",
    "X_train_transformed = train_dataset_transformed.features\n",
    "y_train_transformed = train_dataset_transformed.labels.ravel()\n",
    "\n",
    "X_test_transformed = test_dataset_transformed.features\n",
    "y_test_transformed = test_dataset_transformed.labels.ravel()\n",
    "\n",
    "if len(set(y_train_transformed)) < 2:\n",
    "    raise ValueError(\"Training data after transformation has only one class. Check dataset or transformation.\")"
   ],
   "id": "dfaf532316a3ae30",
   "outputs": [],
   "execution_count": 13
  },
  {
   "metadata": {
    "ExecuteTime": {
     "end_time": "2024-11-18T20:13:42.752021Z",
     "start_time": "2024-11-18T20:13:42.506124Z"
    }
   },
   "cell_type": "code",
   "source": [
    "\n",
    "model = make_pipeline(StandardScaler(), LogisticRegression(solver='liblinear', random_state=1))\n",
    "model.fit(X_train_transformed, y_train_transformed)\n",
    "y_pred = model.predict(X_test_transformed)\n"
   ],
   "id": "2f7a931766b35ed6",
   "outputs": [],
   "execution_count": 6
  },
  {
   "metadata": {
    "ExecuteTime": {
     "end_time": "2024-11-18T20:18:03.965930Z",
     "start_time": "2024-11-18T20:18:03.920061Z"
    }
   },
   "cell_type": "code",
   "source": [
    "y_test_transformed = y_test.to_numpy()\n",
    "\n",
    "accuracy = accuracy_score(y_test_transformed, y_pred)\n",
    "precision = precision_score(y_test_transformed, y_pred)\n",
    "recall = recall_score(y_test_transformed, y_pred)\n",
    "f1 = f1_score(y_test_transformed, y_pred)\n",
    "\n",
    "X_test_copy = X_test.copy() \n",
    "X_test_copy[target_column] = y_test_transformed\n",
    "\n",
    "dataset_true = BinaryLabelDataset(df=X_test_copy,\n",
    "                                  label_names=[target_column],\n",
    "                                  protected_attribute_names=[sensitive_attribute])\n",
    "\n",
    "X_test_pred = X_test.copy()\n",
    "X_test_pred[target_column] = y_pred\n",
    "\n",
    "dataset_predicted = BinaryLabelDataset(df=X_test_pred,\n",
    "                                       label_names=[target_column],\n",
    "                                       protected_attribute_names=[sensitive_attribute])\n",
    "\n",
    "assert dataset_true.labels.shape == dataset_predicted.labels.shape, \\\n",
    "    f\"Shape mismatch: True labels {dataset_true.labels.shape}, Predicted labels {dataset_predicted.labels.shape}\"\n",
    "\n",
    "metric = BinaryLabelDatasetMetric(dataset_true,\n",
    "                                  privileged_groups=[{sensitive_attribute: 1}],\n",
    "                                  unprivileged_groups=[{sensitive_attribute: 0}])\n",
    "\n",
    "classification_metric = ClassificationMetric(dataset_true, dataset_predicted,\n",
    "                                             privileged_groups=[{sensitive_attribute: 1}],\n",
    "                                             unprivileged_groups=[{sensitive_attribute: 0}])\n",
    "\n",
    "disparate_impact = metric.disparate_impact()\n",
    "statistical_parity_diff = metric.statistical_parity_difference()\n",
    "\n",
    "ppv_privileged = classification_metric.positive_predictive_value(privileged=True)\n",
    "ppv_unprivileged = classification_metric.positive_predictive_value(privileged=False)\n",
    "ppv_parity = abs(ppv_privileged - ppv_unprivileged)\n",
    "\n",
    "fpr_privileged = classification_metric.false_positive_rate(privileged=True)\n",
    "fpr_unprivileged = classification_metric.false_positive_rate(privileged=False)\n",
    "fpr_parity = abs(fpr_privileged - fpr_unprivileged)\n",
    "\n",
    "results = {\n",
    "    \"Accuracy\": accuracy,\n",
    "    \"Precision\": precision,\n",
    "    \"Recall\": recall,\n",
    "    \"F1 Score\": f1,\n",
    "    \"Disparate Impact\": disparate_impact,\n",
    "    \"Statistical Parity Difference\": statistical_parity_diff,\n",
    "    \"PPV Parity\": ppv_parity,\n",
    "    \"FPR Parity\": fpr_parity\n",
    "}\n",
    "\n",
    "print(results)\n"
   ],
   "id": "e4ce8c1e583ce940",
   "outputs": [
    {
     "name": "stdout",
     "output_type": "stream",
     "text": [
      "{'Accuracy': 0.7548900430986849, 'Precision': np.float64(0.5747663551401869), 'Recall': np.float64(0.10780017528483786), 'F1 Score': np.float64(0.181549815498155), 'Disparate Impact': np.float64(0.3589947942816373), 'Statistical Parity Difference': np.float64(-0.2036429050424906), 'PPV Parity': np.float64(0.314696106362773), 'FPR Parity': np.float64(0.00022729688361621675)}\n"
     ]
    }
   ],
   "execution_count": 12
  }
 ],
 "metadata": {
  "kernelspec": {
   "display_name": "Python 3",
   "language": "python",
   "name": "python3"
  },
  "language_info": {
   "codemirror_mode": {
    "name": "ipython",
    "version": 2
   },
   "file_extension": ".py",
   "mimetype": "text/x-python",
   "name": "python",
   "nbconvert_exporter": "python",
   "pygments_lexer": "ipython2",
   "version": "2.7.6"
  }
 },
 "nbformat": 4,
 "nbformat_minor": 5
}
